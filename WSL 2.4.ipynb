{
 "cells": [
  {
   "cell_type": "markdown",
   "id": "0c40bbe8",
   "metadata": {},
   "source": [
    "# WSL Machiene Learning Project"
   ]
  },
  {
   "cell_type": "markdown",
   "id": "d7cf44fb",
   "metadata": {},
   "source": [
    "## Build athlete dataset with web scraping.\n"
   ]
  },
  {
   "cell_type": "code",
   "execution_count": null,
   "id": "d7bdd39a",
   "metadata": {},
   "outputs": [],
   "source": [
    "import pandas as pd\n",
    "import numpy as np\n",
    "from selenium import webdriver\n",
    "from selenium.webdriver.common.by import By\n",
    "from selenium.webdriver.support.ui import WebDriverWait\n",
    "from selenium.webdriver.support import expected_conditions as EC\n",
    "from selenium.common.exceptions import NoSuchElementException\n",
    "import time"
   ]
  },
  {
   "cell_type": "code",
   "execution_count": null,
   "id": "084eb8f6",
   "metadata": {},
   "outputs": [],
   "source": [
    "def scrape_athletes():\n",
    "    chrome_driver_path = r\"/Users/carmenhoyt/Downloads/chromedriver.exe\"\n",
    "    driver = webdriver.Chrome(executable_path = chrome_driver_path)\n",
    "    driver.get(\"https://www.worldsurfleague.com/athletes/tour/mct?year=2023\")\n",
    "\n",
    "    #wait for the athlete list to load\n",
    "    \n",
    "    #WebDriverWait(driver, 20).until(EC.visibility_of_element_located((By.CLASS_NAME, 'athlete-list__item')))\n",
    "    time.sleep(10)\n",
    "    \n",
    "    #final all athlete elements\n",
    "    athlete_elements = driver.find_elements_by_class_name('avatar-text')\n",
    "    \n",
    "    #initialize lists to store athlete information\n",
    "    athlete_data = []\n",
    "\n",
    "    #extract athlete information\n",
    "    for athlete in athlete_elements:\n",
    "        name = athlete.find_element_by_class_name('avatar-text-primary').text\n",
    "        nationality = athlete.find_element_by_class_name('avatar-text-secondary').text\n",
    "    \n",
    "        athlete_data.append({'Name': name, 'Nationality': nationality})\n",
    "    \n",
    "    #close the browser\n",
    "    driver.quit()\n",
    "\n",
    "    #create a DataFrame to store the athlete information\n",
    "    athlete_df = pd.DataFrame(athlete_data)\n",
    "\n",
    "    return athlete_df\n"
   ]
  },
  {
   "cell_type": "code",
   "execution_count": null,
   "id": "a4fc8c7c",
   "metadata": {},
   "outputs": [],
   "source": [
    "if __name__ == \"__main__\":\n",
    "    athlete_name = scrape_athletes()\n",
    "    print(athlete_name)"
   ]
  },
  {
   "cell_type": "code",
   "execution_count": null,
   "id": "7b302783",
   "metadata": {},
   "outputs": [],
   "source": [
    "athlete_name.head()"
   ]
  },
  {
   "cell_type": "code",
   "execution_count": null,
   "id": "2efd1cd0",
   "metadata": {},
   "outputs": [],
   "source": [
    "athlete_name.shape"
   ]
  },
  {
   "cell_type": "markdown",
   "id": "494fa997",
   "metadata": {},
   "source": [
    "### Not all athlete pages are the same, so we start by creating two lists: consistent (athletes) and inconsietent pages (problem_athletes)."
   ]
  },
  {
   "cell_type": "code",
   "execution_count": null,
   "id": "b2fe354b",
   "metadata": {},
   "outputs": [],
   "source": [
    "athletes = athlete_name.Name.tolist()\n",
    "problem_athletes = ['Gabriel Medina', 'Ian Gentil','Caio Ibelli', 'Callum Robson','Michael Rodrigues','Maxime Huscenot','Ezekiel Lau','Carlos Munoz', 'Ramzi Boukhiam']\n",
    "\n",
    "# looping list of numbers to remove\n",
    "for n in problem_athletes:\n",
    "    # taking 1 number found in the list\n",
    "    # remove it from the list\n",
    "    while n in athletes:\n",
    "        athletes.remove(n)\n",
    "        \n",
    "#athletes = ['Filipe Toledo', 'Ethan Ewing']\n",
    "        \n",
    "print(athletes)"
   ]
  },
  {
   "cell_type": "markdown",
   "id": "b42e6796",
   "metadata": {},
   "source": [
    "### Function for athlete pages that are consistent."
   ]
  },
  {
   "cell_type": "code",
   "execution_count": null,
   "id": "f2ed87b6",
   "metadata": {},
   "outputs": [],
   "source": [
    "def scrape_athlete_information():\n",
    "    chrome_driver_path = r\"/Users/carmenhoyt/Downloads/chromedriver_mac64 (1)/chromedriver\"\n",
    "    driver = webdriver.Chrome(executable_path = chrome_driver_path)\n",
    "    driver.get(\"https://www.worldsurfleague.com/athletes/tour/mct?year=2023\")\n",
    "\n",
    "    #wait for the athlete list to load\n",
    "    #WebDriverWait(driver, 20).until(EC.visibility_of_element_located((By.CLASS_NAME, 'athlete-list__item')))\n",
    "    time.sleep(10)\n",
    "    \n",
    "    #initialize lists to store athlete information\n",
    "    athlete_information = []\n",
    "\n",
    "    #extract athlete information\n",
    "    \n",
    "    Y = 500\n",
    "    \n",
    "    for athlete in athletes:        \n",
    "        time.sleep(10)\n",
    "        scroll = \"window.scrollTo(0, \"+str(Y)+\")\"\n",
    "        driver.execute_script(scroll)\n",
    "        driver.find_element_by_link_text(athlete).click()\n",
    "        time.sleep(5)\n",
    "        try:\n",
    "            name = driver.find_element_by_xpath(\"//*[@id='primary']/div/div/div[2]/div/div[2]/div/div[2]/div/div[2]/div[1]/h1\").text\n",
    "        except NoSuchElementException:\n",
    "            continue\n",
    "        except:\n",
    "            continue\n",
    "        \n",
    "        try:\n",
    "            stance = driver.find_element_by_xpath(\"//*[@id='primary']/div/div/div[2]/div/div[2]/div/div[5]/ul/li[1]/div[2]\").text\n",
    "        except NoSuchElementException:\n",
    "            stance = driver.find_element_by_xpath(\"//*[@id='primary']/div/div/div[2]/div/div[2]/div/div[4]/ul/li[1]/div[2]\").text\n",
    "            continue\n",
    "        except:\n",
    "            continue\n",
    "        \n",
    "        try:\n",
    "            age = driver.find_element_by_xpath(\"//*[@id='primary']/div/div/div[2]/div/div[2]/div/div[5]/ul/li[3]/div[2]/span[1]\").text\n",
    "        except NoSuchElementException:\n",
    "            age = driver.find_element_by_xpath(\"//*[@id='primary']/div/div/div[2]/div/div[2]/div/div[4]/ul/li[3]/div[2]/span[1]\").text\n",
    "            continue\n",
    "        except:\n",
    "            continue\n",
    "        \n",
    "        try:\n",
    "            rookie_year = driver.find_element_by_xpath(\"//*[@id='primary']/div/div/div[2]/div/div[1]/div[2]/div/ul/li[4]/div/div[2]\").text\n",
    "        except NoSuchElementException:\n",
    "            continue\n",
    "        except:\n",
    "            continue\n",
    "        \n",
    "        try:\n",
    "            ranking = driver.find_element_by_xpath(\"//*[@id='primary']/div/div/div[2]/div/div[1]/div[2]/div/ul/li[1]/div/div[2]\").text\n",
    "        except NoSuchElementException:\n",
    "            ranking = driver.find_element_by_xpath(\"//*[@id='primary']/div/div/div[2]/div/div[1]/div[1]/div/ul/li[1]/div/div[2]\").text\n",
    "            continue\n",
    "        except:\n",
    "            continue\n",
    "    \n",
    "        driver.back()\n",
    "        \n",
    "        Y = Y+100\n",
    "\n",
    "        athlete_information.append({'Name': name, 'Stance': stance, 'Age': age, 'Rookie Year': rookie_year, 'Ranking': ranking})\n",
    "    \n",
    "    #close the browser\n",
    "    driver.quit()\n",
    "\n",
    "    #create a DataFrame to store the athlete information\n",
    "    athlete_df = pd.DataFrame(athlete_information)\n",
    "\n",
    "    return athlete_df"
   ]
  },
  {
   "cell_type": "code",
   "execution_count": null,
   "id": "16cd3e4a",
   "metadata": {},
   "outputs": [],
   "source": [
    "if __name__ == \"__main__\":\n",
    "    athlete_data = scrape_athlete_information()\n",
    "    print(athlete_data)"
   ]
  },
  {
   "cell_type": "code",
   "execution_count": null,
   "id": "19246d75",
   "metadata": {},
   "outputs": [],
   "source": [
    "athlete_data.head()"
   ]
  },
  {
   "cell_type": "code",
   "execution_count": null,
   "id": "d5063fbe",
   "metadata": {},
   "outputs": [],
   "source": [
    "combined_df = athlete_name.merge(athlete_data, how = 'outer', on = 'Name')"
   ]
  },
  {
   "cell_type": "markdown",
   "id": "04d51353",
   "metadata": {},
   "source": [
    "### The pages for Gabriel Medina and Carlos Munoz are exceptionally inconsistent. They are removed from the remainder of the problem_athlete list and will be dealt with separately."
   ]
  },
  {
   "cell_type": "code",
   "execution_count": null,
   "id": "61cfe4f3",
   "metadata": {},
   "outputs": [],
   "source": [
    "problem_athletes.remove('Gabriel Medina')"
   ]
  },
  {
   "cell_type": "code",
   "execution_count": null,
   "id": "eb480482",
   "metadata": {},
   "outputs": [],
   "source": [
    "problem_athletes.remove('Carlos Munoz')"
   ]
  },
  {
   "cell_type": "code",
   "execution_count": null,
   "id": "2e7b1b65",
   "metadata": {},
   "outputs": [],
   "source": [
    "def scrape_problem_information():\n",
    "    \n",
    "    chrome_driver_path = r\"/Users/carmenhoyt/Downloads/chromedriver_mac64 (1)/chromedriver\"\n",
    "    driver = webdriver.Chrome(executable_path = chrome_driver_path)\n",
    "    driver.get(\"https://www.worldsurfleague.com/athletes/tour/mct?year=2023\")\n",
    "\n",
    "    athlete_problem_information = []\n",
    "\n",
    "    #extract athlete information\n",
    "    \n",
    "    Y = 750\n",
    "    \n",
    "    for athlete in problem_athletes:        \n",
    "        time.sleep(10)\n",
    "        scroll = \"window.scrollTo(0, \"+str(Y)+\")\"\n",
    "        driver.execute_script(scroll)\n",
    "        driver.find_element_by_link_text(athlete).click()\n",
    "        time.sleep(5)\n",
    "        \n",
    "        try:\n",
    "            name = driver.find_element_by_xpath(\"//*[@id='primary']/div/div/div[2]/div/div[2]/div/div[2]/div/div[2]/div[1]/h1\").text\n",
    "        except NoSuchElementException:\n",
    "            continue\n",
    "        except:\n",
    "            continue\n",
    "        \n",
    "        try:\n",
    "            stance = driver.find_element_by_xpath(\"//*[@id='primary']/div/div/div[2]/div/div[2]/div/div[4]/ul/li[1]/div[2]\").text\n",
    "        except NoSuchElementException:\n",
    "            stance = driver.find_element_by_xpath(\"//*[@id='primary']/div/div/div[2]/div/div[2]/div/div[5]/ul/li[1]/div[2]\").text\n",
    "        except:\n",
    "            stance = \"not found\"\n",
    "            continue\n",
    "                \n",
    "        try:\n",
    "            age = driver.find_element_by_xpath(\"//*[@id='primary']/div/div/div[2]/div/div[2]/div/div[5]/ul/li[3]/div[2]/span[1]\").text\n",
    "        except NoSuchElementException:\n",
    "            age = driver.find_element_by_xpath(\"//*[@id='primary']/div/div/div[2]/div/div[2]/div/div[4]/ul/li[3]/div[2]/span[1]\").text\n",
    "        except:\n",
    "            age = \"not found\"\n",
    "            continue\n",
    "        \n",
    "        try:\n",
    "            rookie_year = driver.find_element_by_xpath(\"//*[@id='primary']/div/div/div[2]/div/div[1]/div[2]/div/ul/li[4]/div/div[2]\").text\n",
    "        except NoSuchElementException:\n",
    "            rookie_year = driver.find_element_by_xpath(\"//*[@id='primary']/div/div/div[2]/div/div[1]/div[1]/div/ul/li[4]/div/div[2]\").text\n",
    "        except:\n",
    "            rookie_year = \"not found\"\n",
    "            continue\n",
    "        \n",
    "        try:\n",
    "            ranking = driver.find_element_by_xpath(\"//*[@id='primary']/div/div/div[2]/div/div[1]/div[2]/div/ul/li[1]/div/div[2]\").text\n",
    "        except NoSuchElementException:\n",
    "            ranking = driver.find_element_by_xpath(\"//*[@id='primary']/div/div/div[2]/div/div[1]/div[1]/div/ul/li[1]/div/div[2]\").text\n",
    "        except:\n",
    "            ranking = \"ranking not found\"\n",
    "            continue\n",
    "    \n",
    "        try:\n",
    "            #driver.get(\"https://www.worldsurfleague.com/athletes/tour/mct?year=2023\")\n",
    "            driver.back()\n",
    "            time.sleep(10)\n",
    "            home_page = driver.find_element_by_xpath(\"//*[@id='primary']/div/div/div[1]/div/div/div/div/div[3]/div/div/div[1]/h1/span\").text\n",
    "            print(home_page)\n",
    "        except NoSuchElementException:\n",
    "            #driver.back()\n",
    "            print(\"Problem with back button\")    \n",
    "        \n",
    "        Y = Y+200\n",
    "\n",
    "        athlete_problem_information.append({'Name': name, 'Stance': stance, 'Age': age, 'Ranking': ranking, 'Rookie Year': rookie_year})\n",
    "                                            #'Age': age, 'Rookie Year': rookie_year, 'Ranking': ranking})\n",
    "    \n",
    "    #close the browser\n",
    "    driver.quit()\n",
    "\n",
    "    #create a DataFrame to store the athlete information\n",
    "    athlete_df = pd.DataFrame(athlete_problem_information)\n",
    "\n",
    "    return athlete_df"
   ]
  },
  {
   "cell_type": "code",
   "execution_count": null,
   "id": "9637ca82",
   "metadata": {},
   "outputs": [],
   "source": [
    "if __name__ == \"__main__\":\n",
    "    athlete_problem_data = scrape_problem_information()\n",
    "    print(athlete_data)"
   ]
  },
  {
   "cell_type": "code",
   "execution_count": null,
   "id": "12b5f23e",
   "metadata": {},
   "outputs": [],
   "source": [
    "athlete_problem_data.head()"
   ]
  }
 ],
 "metadata": {
  "kernelspec": {
   "display_name": "Python 3 (ipykernel)",
   "language": "python",
   "name": "python3"
  },
  "language_info": {
   "codemirror_mode": {
    "name": "ipython",
    "version": 3
   },
   "file_extension": ".py",
   "mimetype": "text/x-python",
   "name": "python",
   "nbconvert_exporter": "python",
   "pygments_lexer": "ipython3",
   "version": "3.11.3"
  }
 },
 "nbformat": 4,
 "nbformat_minor": 5
}
